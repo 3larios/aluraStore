{
  "nbformat": 4,
  "nbformat_minor": 0,
  "metadata": {
    "colab": {
      "provenance": []
    },
    "kernelspec": {
      "name": "python3",
      "display_name": "Python 3"
    },
    "language_info": {
      "name": "python"
    }
  },
  "cells": [
    {
      "cell_type": "markdown",
      "source": [
        "### Importação dos dados\n",
        "\n"
      ],
      "metadata": {
        "id": "RhEdWd9YUR6H"
      }
    },
    {
      "cell_type": "code",
      "execution_count": null,
      "metadata": {
        "colab": {
          "base_uri": "https://localhost:8080/",
          "height": 293
        },
        "id": "T3EvaeQ_INIL",
        "outputId": "2dc9247b-a0a2-485d-bf39-6259594c9419"
      },
      "outputs": [
        {
          "output_type": "execute_result",
          "data": {
            "text/plain": [
              "                 Produto Categoria do Produto    Preço      Frete  \\\n",
              "0     Assistente virtual          eletronicos   219.08   9.249790   \n",
              "1         Mesa de jantar               moveis   256.35  11.234305   \n",
              "2      Jogo de tabuleiro           brinquedos   279.51  21.262681   \n",
              "3            Micro-ondas     eletrodomesticos  1009.99  54.667344   \n",
              "4  Cadeira de escritório               moveis   446.99  26.964689   \n",
              "\n",
              "  Data da Compra        Vendedor Local da compra  Avaliação da compra  \\\n",
              "0     16/01/2021     Pedro Gomes              SP                    4   \n",
              "1     18/05/2022  Beatriz Moraes              RJ                    1   \n",
              "2     15/03/2021      João Souza              DF                    1   \n",
              "3     03/05/2022      João Souza              RS                    4   \n",
              "4     07/11/2020   Larissa Alves              MG                    5   \n",
              "\n",
              "  Tipo de pagamento  Quantidade de parcelas    lat    lon  \n",
              "0    cartao_credito                       8 -22.19 -48.79  \n",
              "1    cartao_credito                       4 -22.25 -42.66  \n",
              "2    cartao_credito                       1 -15.83 -47.86  \n",
              "3            boleto                       1 -30.17 -53.50  \n",
              "4            boleto                       1 -18.10 -44.38  "
            ],
            "text/html": [
              "\n",
              "  <div id=\"df-deacc180-aa84-4068-add7-ceb18e89014f\" class=\"colab-df-container\">\n",
              "    <div>\n",
              "<style scoped>\n",
              "    .dataframe tbody tr th:only-of-type {\n",
              "        vertical-align: middle;\n",
              "    }\n",
              "\n",
              "    .dataframe tbody tr th {\n",
              "        vertical-align: top;\n",
              "    }\n",
              "\n",
              "    .dataframe thead th {\n",
              "        text-align: right;\n",
              "    }\n",
              "</style>\n",
              "<table border=\"1\" class=\"dataframe\">\n",
              "  <thead>\n",
              "    <tr style=\"text-align: right;\">\n",
              "      <th></th>\n",
              "      <th>Produto</th>\n",
              "      <th>Categoria do Produto</th>\n",
              "      <th>Preço</th>\n",
              "      <th>Frete</th>\n",
              "      <th>Data da Compra</th>\n",
              "      <th>Vendedor</th>\n",
              "      <th>Local da compra</th>\n",
              "      <th>Avaliação da compra</th>\n",
              "      <th>Tipo de pagamento</th>\n",
              "      <th>Quantidade de parcelas</th>\n",
              "      <th>lat</th>\n",
              "      <th>lon</th>\n",
              "    </tr>\n",
              "  </thead>\n",
              "  <tbody>\n",
              "    <tr>\n",
              "      <th>0</th>\n",
              "      <td>Assistente virtual</td>\n",
              "      <td>eletronicos</td>\n",
              "      <td>219.08</td>\n",
              "      <td>9.249790</td>\n",
              "      <td>16/01/2021</td>\n",
              "      <td>Pedro Gomes</td>\n",
              "      <td>SP</td>\n",
              "      <td>4</td>\n",
              "      <td>cartao_credito</td>\n",
              "      <td>8</td>\n",
              "      <td>-22.19</td>\n",
              "      <td>-48.79</td>\n",
              "    </tr>\n",
              "    <tr>\n",
              "      <th>1</th>\n",
              "      <td>Mesa de jantar</td>\n",
              "      <td>moveis</td>\n",
              "      <td>256.35</td>\n",
              "      <td>11.234305</td>\n",
              "      <td>18/05/2022</td>\n",
              "      <td>Beatriz Moraes</td>\n",
              "      <td>RJ</td>\n",
              "      <td>1</td>\n",
              "      <td>cartao_credito</td>\n",
              "      <td>4</td>\n",
              "      <td>-22.25</td>\n",
              "      <td>-42.66</td>\n",
              "    </tr>\n",
              "    <tr>\n",
              "      <th>2</th>\n",
              "      <td>Jogo de tabuleiro</td>\n",
              "      <td>brinquedos</td>\n",
              "      <td>279.51</td>\n",
              "      <td>21.262681</td>\n",
              "      <td>15/03/2021</td>\n",
              "      <td>João Souza</td>\n",
              "      <td>DF</td>\n",
              "      <td>1</td>\n",
              "      <td>cartao_credito</td>\n",
              "      <td>1</td>\n",
              "      <td>-15.83</td>\n",
              "      <td>-47.86</td>\n",
              "    </tr>\n",
              "    <tr>\n",
              "      <th>3</th>\n",
              "      <td>Micro-ondas</td>\n",
              "      <td>eletrodomesticos</td>\n",
              "      <td>1009.99</td>\n",
              "      <td>54.667344</td>\n",
              "      <td>03/05/2022</td>\n",
              "      <td>João Souza</td>\n",
              "      <td>RS</td>\n",
              "      <td>4</td>\n",
              "      <td>boleto</td>\n",
              "      <td>1</td>\n",
              "      <td>-30.17</td>\n",
              "      <td>-53.50</td>\n",
              "    </tr>\n",
              "    <tr>\n",
              "      <th>4</th>\n",
              "      <td>Cadeira de escritório</td>\n",
              "      <td>moveis</td>\n",
              "      <td>446.99</td>\n",
              "      <td>26.964689</td>\n",
              "      <td>07/11/2020</td>\n",
              "      <td>Larissa Alves</td>\n",
              "      <td>MG</td>\n",
              "      <td>5</td>\n",
              "      <td>boleto</td>\n",
              "      <td>1</td>\n",
              "      <td>-18.10</td>\n",
              "      <td>-44.38</td>\n",
              "    </tr>\n",
              "  </tbody>\n",
              "</table>\n",
              "</div>\n",
              "    <div class=\"colab-df-buttons\">\n",
              "\n",
              "  <div class=\"colab-df-container\">\n",
              "    <button class=\"colab-df-convert\" onclick=\"convertToInteractive('df-deacc180-aa84-4068-add7-ceb18e89014f')\"\n",
              "            title=\"Convert this dataframe to an interactive table.\"\n",
              "            style=\"display:none;\">\n",
              "\n",
              "  <svg xmlns=\"http://www.w3.org/2000/svg\" height=\"24px\" viewBox=\"0 -960 960 960\">\n",
              "    <path d=\"M120-120v-720h720v720H120Zm60-500h600v-160H180v160Zm220 220h160v-160H400v160Zm0 220h160v-160H400v160ZM180-400h160v-160H180v160Zm440 0h160v-160H620v160ZM180-180h160v-160H180v160Zm440 0h160v-160H620v160Z\"/>\n",
              "  </svg>\n",
              "    </button>\n",
              "\n",
              "  <style>\n",
              "    .colab-df-container {\n",
              "      display:flex;\n",
              "      gap: 12px;\n",
              "    }\n",
              "\n",
              "    .colab-df-convert {\n",
              "      background-color: #E8F0FE;\n",
              "      border: none;\n",
              "      border-radius: 50%;\n",
              "      cursor: pointer;\n",
              "      display: none;\n",
              "      fill: #1967D2;\n",
              "      height: 32px;\n",
              "      padding: 0 0 0 0;\n",
              "      width: 32px;\n",
              "    }\n",
              "\n",
              "    .colab-df-convert:hover {\n",
              "      background-color: #E2EBFA;\n",
              "      box-shadow: 0px 1px 2px rgba(60, 64, 67, 0.3), 0px 1px 3px 1px rgba(60, 64, 67, 0.15);\n",
              "      fill: #174EA6;\n",
              "    }\n",
              "\n",
              "    .colab-df-buttons div {\n",
              "      margin-bottom: 4px;\n",
              "    }\n",
              "\n",
              "    [theme=dark] .colab-df-convert {\n",
              "      background-color: #3B4455;\n",
              "      fill: #D2E3FC;\n",
              "    }\n",
              "\n",
              "    [theme=dark] .colab-df-convert:hover {\n",
              "      background-color: #434B5C;\n",
              "      box-shadow: 0px 1px 3px 1px rgba(0, 0, 0, 0.15);\n",
              "      filter: drop-shadow(0px 1px 2px rgba(0, 0, 0, 0.3));\n",
              "      fill: #FFFFFF;\n",
              "    }\n",
              "  </style>\n",
              "\n",
              "    <script>\n",
              "      const buttonEl =\n",
              "        document.querySelector('#df-deacc180-aa84-4068-add7-ceb18e89014f button.colab-df-convert');\n",
              "      buttonEl.style.display =\n",
              "        google.colab.kernel.accessAllowed ? 'block' : 'none';\n",
              "\n",
              "      async function convertToInteractive(key) {\n",
              "        const element = document.querySelector('#df-deacc180-aa84-4068-add7-ceb18e89014f');\n",
              "        const dataTable =\n",
              "          await google.colab.kernel.invokeFunction('convertToInteractive',\n",
              "                                                    [key], {});\n",
              "        if (!dataTable) return;\n",
              "\n",
              "        const docLinkHtml = 'Like what you see? Visit the ' +\n",
              "          '<a target=\"_blank\" href=https://colab.research.google.com/notebooks/data_table.ipynb>data table notebook</a>'\n",
              "          + ' to learn more about interactive tables.';\n",
              "        element.innerHTML = '';\n",
              "        dataTable['output_type'] = 'display_data';\n",
              "        await google.colab.output.renderOutput(dataTable, element);\n",
              "        const docLink = document.createElement('div');\n",
              "        docLink.innerHTML = docLinkHtml;\n",
              "        element.appendChild(docLink);\n",
              "      }\n",
              "    </script>\n",
              "  </div>\n",
              "\n",
              "\n",
              "    <div id=\"df-be5e4ad6-aa00-471f-872b-2d6c06bdf702\">\n",
              "      <button class=\"colab-df-quickchart\" onclick=\"quickchart('df-be5e4ad6-aa00-471f-872b-2d6c06bdf702')\"\n",
              "                title=\"Suggest charts\"\n",
              "                style=\"display:none;\">\n",
              "\n",
              "<svg xmlns=\"http://www.w3.org/2000/svg\" height=\"24px\"viewBox=\"0 0 24 24\"\n",
              "     width=\"24px\">\n",
              "    <g>\n",
              "        <path d=\"M19 3H5c-1.1 0-2 .9-2 2v14c0 1.1.9 2 2 2h14c1.1 0 2-.9 2-2V5c0-1.1-.9-2-2-2zM9 17H7v-7h2v7zm4 0h-2V7h2v10zm4 0h-2v-4h2v4z\"/>\n",
              "    </g>\n",
              "</svg>\n",
              "      </button>\n",
              "\n",
              "<style>\n",
              "  .colab-df-quickchart {\n",
              "      --bg-color: #E8F0FE;\n",
              "      --fill-color: #1967D2;\n",
              "      --hover-bg-color: #E2EBFA;\n",
              "      --hover-fill-color: #174EA6;\n",
              "      --disabled-fill-color: #AAA;\n",
              "      --disabled-bg-color: #DDD;\n",
              "  }\n",
              "\n",
              "  [theme=dark] .colab-df-quickchart {\n",
              "      --bg-color: #3B4455;\n",
              "      --fill-color: #D2E3FC;\n",
              "      --hover-bg-color: #434B5C;\n",
              "      --hover-fill-color: #FFFFFF;\n",
              "      --disabled-bg-color: #3B4455;\n",
              "      --disabled-fill-color: #666;\n",
              "  }\n",
              "\n",
              "  .colab-df-quickchart {\n",
              "    background-color: var(--bg-color);\n",
              "    border: none;\n",
              "    border-radius: 50%;\n",
              "    cursor: pointer;\n",
              "    display: none;\n",
              "    fill: var(--fill-color);\n",
              "    height: 32px;\n",
              "    padding: 0;\n",
              "    width: 32px;\n",
              "  }\n",
              "\n",
              "  .colab-df-quickchart:hover {\n",
              "    background-color: var(--hover-bg-color);\n",
              "    box-shadow: 0 1px 2px rgba(60, 64, 67, 0.3), 0 1px 3px 1px rgba(60, 64, 67, 0.15);\n",
              "    fill: var(--button-hover-fill-color);\n",
              "  }\n",
              "\n",
              "  .colab-df-quickchart-complete:disabled,\n",
              "  .colab-df-quickchart-complete:disabled:hover {\n",
              "    background-color: var(--disabled-bg-color);\n",
              "    fill: var(--disabled-fill-color);\n",
              "    box-shadow: none;\n",
              "  }\n",
              "\n",
              "  .colab-df-spinner {\n",
              "    border: 2px solid var(--fill-color);\n",
              "    border-color: transparent;\n",
              "    border-bottom-color: var(--fill-color);\n",
              "    animation:\n",
              "      spin 1s steps(1) infinite;\n",
              "  }\n",
              "\n",
              "  @keyframes spin {\n",
              "    0% {\n",
              "      border-color: transparent;\n",
              "      border-bottom-color: var(--fill-color);\n",
              "      border-left-color: var(--fill-color);\n",
              "    }\n",
              "    20% {\n",
              "      border-color: transparent;\n",
              "      border-left-color: var(--fill-color);\n",
              "      border-top-color: var(--fill-color);\n",
              "    }\n",
              "    30% {\n",
              "      border-color: transparent;\n",
              "      border-left-color: var(--fill-color);\n",
              "      border-top-color: var(--fill-color);\n",
              "      border-right-color: var(--fill-color);\n",
              "    }\n",
              "    40% {\n",
              "      border-color: transparent;\n",
              "      border-right-color: var(--fill-color);\n",
              "      border-top-color: var(--fill-color);\n",
              "    }\n",
              "    60% {\n",
              "      border-color: transparent;\n",
              "      border-right-color: var(--fill-color);\n",
              "    }\n",
              "    80% {\n",
              "      border-color: transparent;\n",
              "      border-right-color: var(--fill-color);\n",
              "      border-bottom-color: var(--fill-color);\n",
              "    }\n",
              "    90% {\n",
              "      border-color: transparent;\n",
              "      border-bottom-color: var(--fill-color);\n",
              "    }\n",
              "  }\n",
              "</style>\n",
              "\n",
              "      <script>\n",
              "        async function quickchart(key) {\n",
              "          const quickchartButtonEl =\n",
              "            document.querySelector('#' + key + ' button');\n",
              "          quickchartButtonEl.disabled = true;  // To prevent multiple clicks.\n",
              "          quickchartButtonEl.classList.add('colab-df-spinner');\n",
              "          try {\n",
              "            const charts = await google.colab.kernel.invokeFunction(\n",
              "                'suggestCharts', [key], {});\n",
              "          } catch (error) {\n",
              "            console.error('Error during call to suggestCharts:', error);\n",
              "          }\n",
              "          quickchartButtonEl.classList.remove('colab-df-spinner');\n",
              "          quickchartButtonEl.classList.add('colab-df-quickchart-complete');\n",
              "        }\n",
              "        (() => {\n",
              "          let quickchartButtonEl =\n",
              "            document.querySelector('#df-be5e4ad6-aa00-471f-872b-2d6c06bdf702 button');\n",
              "          quickchartButtonEl.style.display =\n",
              "            google.colab.kernel.accessAllowed ? 'block' : 'none';\n",
              "        })();\n",
              "      </script>\n",
              "    </div>\n",
              "\n",
              "    </div>\n",
              "  </div>\n"
            ],
            "application/vnd.google.colaboratory.intrinsic+json": {
              "type": "dataframe",
              "variable_name": "loja",
              "summary": "{\n  \"name\": \"loja\",\n  \"rows\": 2359,\n  \"fields\": [\n    {\n      \"column\": \"Produto\",\n      \"properties\": {\n        \"dtype\": \"category\",\n        \"num_unique_values\": 51,\n        \"samples\": [\n          \"Viol\\u00e3o\",\n          \"Bola de basquete\",\n          \"Smartwatch\"\n        ],\n        \"semantic_type\": \"\",\n        \"description\": \"\"\n      }\n    },\n    {\n      \"column\": \"Categoria do Produto\",\n      \"properties\": {\n        \"dtype\": \"category\",\n        \"num_unique_values\": 8,\n        \"samples\": [\n          \"moveis\",\n          \"esporte e lazer\",\n          \"eletronicos\"\n        ],\n        \"semantic_type\": \"\",\n        \"description\": \"\"\n      }\n    },\n    {\n      \"column\": \"Pre\\u00e7o\",\n      \"properties\": {\n        \"dtype\": \"number\",\n        \"std\": 819.5827782539145,\n        \"min\": 10.07,\n        \"max\": 3969.38,\n        \"num_unique_values\": 2315,\n        \"samples\": [\n          446.11,\n          107.31,\n          65.86\n        ],\n        \"semantic_type\": \"\",\n        \"description\": \"\"\n      }\n    },\n    {\n      \"column\": \"Frete\",\n      \"properties\": {\n        \"dtype\": \"number\",\n        \"std\": 43.814183327408166,\n        \"min\": 0.0,\n        \"max\": 214.3770604781,\n        \"num_unique_values\": 2149,\n        \"samples\": [\n          83.815279607,\n          16.069664669,\n          14.0344876928\n        ],\n        \"semantic_type\": \"\",\n        \"description\": \"\"\n      }\n    },\n    {\n      \"column\": \"Data da Compra\",\n      \"properties\": {\n        \"dtype\": \"object\",\n        \"num_unique_values\": 1018,\n        \"samples\": [\n          \"15/09/2022\",\n          \"03/06/2020\",\n          \"06/11/2021\"\n        ],\n        \"semantic_type\": \"\",\n        \"description\": \"\"\n      }\n    },\n    {\n      \"column\": \"Vendedor\",\n      \"properties\": {\n        \"dtype\": \"category\",\n        \"num_unique_values\": 14,\n        \"samples\": [\n          \"Juliana Costa\",\n          \"Mariana Ferreira\",\n          \"Pedro Gomes\"\n        ],\n        \"semantic_type\": \"\",\n        \"description\": \"\"\n      }\n    },\n    {\n      \"column\": \"Local da compra\",\n      \"properties\": {\n        \"dtype\": \"category\",\n        \"num_unique_values\": 26,\n        \"samples\": [\n          \"TO\",\n          \"RN\",\n          \"SP\"\n        ],\n        \"semantic_type\": \"\",\n        \"description\": \"\"\n      }\n    },\n    {\n      \"column\": \"Avalia\\u00e7\\u00e3o da compra\",\n      \"properties\": {\n        \"dtype\": \"number\",\n        \"std\": 1,\n        \"min\": 1,\n        \"max\": 5,\n        \"num_unique_values\": 5,\n        \"samples\": [\n          1,\n          2,\n          5\n        ],\n        \"semantic_type\": \"\",\n        \"description\": \"\"\n      }\n    },\n    {\n      \"column\": \"Tipo de pagamento\",\n      \"properties\": {\n        \"dtype\": \"category\",\n        \"num_unique_values\": 4,\n        \"samples\": [\n          \"boleto\",\n          \"cartao_debito\",\n          \"cartao_credito\"\n        ],\n        \"semantic_type\": \"\",\n        \"description\": \"\"\n      }\n    },\n    {\n      \"column\": \"Quantidade de parcelas\",\n      \"properties\": {\n        \"dtype\": \"number\",\n        \"std\": 2,\n        \"min\": 1,\n        \"max\": 24,\n        \"num_unique_values\": 15,\n        \"samples\": [\n          7,\n          14,\n          8\n        ],\n        \"semantic_type\": \"\",\n        \"description\": \"\"\n      }\n    },\n    {\n      \"column\": \"lat\",\n      \"properties\": {\n        \"dtype\": \"number\",\n        \"std\": 5.372399916530833,\n        \"min\": -30.17,\n        \"max\": 1.41,\n        \"num_unique_values\": 26,\n        \"samples\": [\n          -9.46,\n          -5.81,\n          -22.19\n        ],\n        \"semantic_type\": \"\",\n        \"description\": \"\"\n      }\n    },\n    {\n      \"column\": \"lon\",\n      \"properties\": {\n        \"dtype\": \"number\",\n        \"std\": 4.183180020544179,\n        \"min\": -70.55,\n        \"max\": -36.59,\n        \"num_unique_values\": 26,\n        \"samples\": [\n          -48.26,\n          -36.59,\n          -48.79\n        ],\n        \"semantic_type\": \"\",\n        \"description\": \"\"\n      }\n    }\n  ]\n}"
            }
          },
          "metadata": {},
          "execution_count": 110
        }
      ],
      "source": [
        "import pandas as pd\n",
        "\n",
        "url = \"https://raw.githubusercontent.com/alura-es-cursos/challenge1-data-science/refs/heads/main/base-de-dados-challenge-1/loja_1.csv\"\n",
        "url2 = \"https://raw.githubusercontent.com/alura-es-cursos/challenge1-data-science/refs/heads/main/base-de-dados-challenge-1/loja_2.csv\"\n",
        "url3 = \"https://raw.githubusercontent.com/alura-es-cursos/challenge1-data-science/refs/heads/main/base-de-dados-challenge-1/loja_3.csv\"\n",
        "url4 = \"https://raw.githubusercontent.com/alura-es-cursos/challenge1-data-science/refs/heads/main/base-de-dados-challenge-1/loja_4.csv\"\n",
        "\n",
        "loja = pd.read_csv(url)\n",
        "loja2 = pd.read_csv(url2)\n",
        "loja3 = pd.read_csv(url3)\n",
        "loja4 = pd.read_csv(url4)\n",
        "\n",
        "loja.head()"
      ]
    },
    {
      "cell_type": "code",
      "source": [],
      "metadata": {
        "id": "oa6OiY16lxMM"
      },
      "execution_count": null,
      "outputs": []
    },
    {
      "cell_type": "markdown",
      "source": [
        "\n",
        "\n",
        "# 1.   Analise de Faturamento\n",
        "\n",
        "\n"
      ],
      "metadata": {
        "id": "qq50Dceh6a2S"
      }
    },
    {
      "cell_type": "code",
      "source": [
        "faturamento = {\n",
        "    'Loja 1': loja['Preço'].sum(),\n",
        "    'Loja 2': loja2['Preço'].sum(),\n",
        "    'Loja 3': loja3['Preço'].sum(),\n",
        "    'Loja 4': loja4['Preço'].sum(),\n",
        "}\n",
        "# Imprime formatado\n",
        "for loja, valor in faturamento.items():\n",
        "    print(f\"{loja}: R$ {valor:,.2f}\")"
      ],
      "metadata": {
        "id": "xykobSftV64I",
        "colab": {
          "base_uri": "https://localhost:8080/"
        },
        "outputId": "74dce769-ebc7-4d50-a241-e5609b9eecca"
      },
      "execution_count": null,
      "outputs": [
        {
          "output_type": "stream",
          "name": "stdout",
          "text": [
            "Loja 1: R$ 1,534,509.12\n",
            "Loja 2: R$ 1,488,459.06\n",
            "Loja 3: R$ 1,464,025.03\n",
            "Loja 4: R$ 1,384,497.58\n"
          ]
        }
      ]
    },
    {
      "cell_type": "code",
      "source": [
        "import matplotlib.pyplot as plt\n",
        "\n",
        "lojas = list(faturamento.keys())\n",
        "valores_milhoes = [v / 1_000_000 for v in faturamento.values()]\n",
        "\n",
        "plt.plot(lojas, valores_milhoes, marker='o', linestyle='-', color='blue')\n",
        "plt.title('Faturamento Total por Loja')\n",
        "plt.ylabel('Faturamento (milhões de R$)')\n",
        "plt.xlabel('Loja')\n",
        "plt.grid(True, linestyle='--', alpha=0.7)\n",
        "\n",
        "for x, y in zip(lojas, valores_milhoes):\n",
        "    plt.text(x, y + 0.02, f'{y:.2f}', ha='center', va='bottom')\n",
        "\n",
        "plt.tight_layout()\n",
        "plt.show()"
      ],
      "metadata": {
        "colab": {
          "base_uri": "https://localhost:8080/",
          "height": 486
        },
        "id": "eMBFHvEfnj1j",
        "outputId": "1d2f5ab6-3647-4f03-ad5d-668611a8a662"
      },
      "execution_count": null,
      "outputs": [
        {
          "output_type": "display_data",
          "data": {
            "text/plain": [
              "<Figure size 640x480 with 1 Axes>"
            ],
            "image/png": "[encoded data removed]"
          },
          "metadata": {}
        }
      ]
    },
    {
      "cell_type": "code",
      "source": [
        "import matplotlib.pyplot as plt\n",
        "\n",
        "lojas = list(faturamento.keys())\n",
        "valores = list(faturamento.values())\n",
        "\n",
        "lojas = list(faturamento.keys())\n",
        "valores_milhoes = [v / 1_000_000 for v in faturamento.values()]\n",
        "\n",
        "plt.bar(lojas, valores_milhoes)\n",
        "plt.title('Faturamento Total por Loja')\n",
        "plt.ylabel('Faturamento (milhões de R$)')\n",
        "plt.xlabel('Loja')\n",
        "plt.show()\n",
        "\n"
      ],
      "metadata": {
        "id": "KDyr8E71V3m-",
        "colab": {
          "base_uri": "https://localhost:8080/",
          "height": 472
        },
        "outputId": "c300134a-3dd8-443f-91b4-9b0cb280603b"
      },
      "execution_count": null,
      "outputs": [
        {
          "output_type": "display_data",
          "data": {
            "text/plain": [
              "<Figure size 640x480 with 1 Axes>"
            ],
            "image/png": "[encoded data removed]"
          },
          "metadata": {}
        }
      ]
    },
    {
      "cell_type": "markdown",
      "source": [
        "# 2. Vendas por Categoria\n"
      ],
      "metadata": {
        "id": "2V_vcAPzWZmR"
      }
    },
    {
      "cell_type": "code",
      "source": [
        "import pandas as pd\n",
        "\n",
        "def contar_categorias(df, nome_loja):\n",
        "    contagem = df['Categoria do Produto'].value_counts()\n",
        "    df_contagem = contagem.to_frame()\n",
        "    df_contagem.columns = [nome_loja]\n",
        "    return df_contagem\n",
        "\n",
        "cat_loja1 = contar_categorias(loja, 'Loja 1')\n",
        "cat_loja2 = contar_categorias(loja2, 'Loja 2')\n",
        "cat_loja3 = contar_categorias(loja3, 'Loja 3')\n",
        "cat_loja4 = contar_categorias(loja4, 'Loja 4')\n",
        "\n",
        "quantidade_por_categoria = pd.concat([cat_loja1, cat_loja2, cat_loja3, cat_loja4], axis=1).fillna(0).astype(int)\n",
        "print(quantidade_por_categoria)\n"
      ],
      "metadata": {
        "id": "A34YupIuYhfF",
        "colab": {
          "base_uri": "https://localhost:8080/"
        },
        "outputId": "aa8b72aa-e6f9-4d86-ff93-6051c0e3c09e"
      },
      "execution_count": null,
      "outputs": [
        {
          "output_type": "stream",
          "name": "stdout",
          "text": [
            "                       Loja 1  Loja 2  Loja 3  Loja 4\n",
            "Categoria do Produto                                 \n",
            "moveis                    465     442     499     480\n",
            "eletronicos               448     422     451     451\n",
            "brinquedos                324     313     315     338\n",
            "eletrodomesticos          312     305     278     254\n",
            "esporte e lazer           284     275     277     277\n",
            "instrumentos musicais     182     224     177     170\n",
            "livros                    173     197     185     187\n",
            "utilidades domesticas     171     181     177     201\n"
          ]
        }
      ]
    },
    {
      "cell_type": "code",
      "source": [
        "import matplotlib.pyplot as plt\n",
        "\n",
        "quantidade_por_categoria.plot(kind='bar')\n",
        "plt.title('Quantidade de Produtos Vendidos por Categoria em Cada Loja')\n",
        "plt.ylabel('Quantidade de Produtos Vendidos')\n",
        "plt.xlabel('Categoria do Produto')\n",
        "plt.show()\n"
      ],
      "metadata": {
        "id": "yZR6cOjXYSk1"
      },
      "execution_count": null,
      "outputs": []
    },
    {
      "cell_type": "code",
      "source": [
        "import matplotlib.pyplot as plt\n",
        "\n",
        "lojas = ['Loja 1', 'Loja 2', 'Loja 3', 'Loja 4']\n",
        "\n",
        "for loja in lojas:\n",
        "    quantidade_por_categoria[loja].plot(\n",
        "        kind='pie',\n",
        "        autopct=lambda pct: f'{int(round(pct * quantidade_por_categoria[loja].sum() / 100))}',\n",
        "        title=f'Participação das Categorias na {loja}'\n",
        "    )\n",
        "    plt.show()"
      ],
      "metadata": {
        "id": "TEpdbj_cszGl"
      },
      "execution_count": null,
      "outputs": []
    },
    {
      "cell_type": "markdown",
      "source": [
        "# 3. Média de Avaliação das Lojas"
      ],
      "metadata": {
        "id": "Rq6tU_xSY3jk"
      }
    },
    {
      "cell_type": "code",
      "source": [
        "import pandas as pd\n",
        "\n",
        "media_avaliacoes_loja = {\n",
        "    'Loja 1': loja['Avaliação da compra'].mean(),\n",
        "    'Loja 2': loja2['Avaliação da compra'].mean(),\n",
        "    'Loja 3': loja3['Avaliação da compra'].mean(),\n",
        "    'Loja 4': loja4['Avaliação da compra'].mean(),\n",
        "}\n",
        "for loja_nome, media in media_avaliacoes_loja.items():\n",
        "    print(f\"{loja_nome}: {media:.2f}\")"
      ],
      "metadata": {
        "id": "bh3jjjJwY5MU"
      },
      "execution_count": null,
      "outputs": []
    },
    {
      "cell_type": "code",
      "source": [
        "import matplotlib.pyplot as plt\n",
        "\n",
        "lojas = list(media_avaliacoes_loja.keys())\n",
        "medias = list(media_avaliacoes_loja.values())\n",
        "plt.bar(lojas, medias)\n",
        "plt.title('Média de avaliações por loja')\n",
        "plt.ylabel('Avaliação média')\n",
        "plt.show()\n"
      ],
      "metadata": {
        "id": "I0KkjPoTY88F"
      },
      "execution_count": null,
      "outputs": []
    },
    {
      "cell_type": "code",
      "source": [
        "import matplotlib.pyplot as plt\n",
        "\n",
        "plt.bar(media_avaliacoes_loja.keys(), media_avaliacoes_loja.values(), color='skyblue')\n",
        "plt.title('Média de avaliações por loja')\n",
        "plt.ylabel('Avaliação média')\n",
        "plt.ylim(0, 5)  # Define o limite do eixo y\n",
        "for loja, media in media_avaliacoes_loja.items():\n",
        "    plt.text(loja, media + 0.05, f'{media:.2f}', ha='center')\n",
        "\n",
        "plt.show()\n"
      ],
      "metadata": {
        "id": "PmNuaVPbwTQH"
      },
      "execution_count": null,
      "outputs": []
    },
    {
      "cell_type": "markdown",
      "source": [
        "# 4. Produtos Mais e Menos Vendidos"
      ],
      "metadata": {
        "id": "DmNp1KPBZCm-"
      }
    },
    {
      "cell_type": "code",
      "source": [
        "import pandas as pd\n",
        "# Produtos mais e menos vendidos por loja\n",
        "def mais_menos_vendidos(df, nome_loja):\n",
        "    contagem = df['Produto'].value_counts()\n",
        "    mais_vendido = contagem.idxmax()\n",
        "    menos_vendido = contagem.idxmin()\n",
        "    return {\n",
        "        'Loja': nome_loja,\n",
        "        'Mais vendido': mais_vendido,\n",
        "        'Qtd mais vendido': contagem.max(),\n",
        "        'Menos vendido': menos_vendido,\n",
        "        'Qtd menos vendido': contagem.min()\n",
        "    }\n",
        "\n",
        "# Aplicando para as 4 lojas\n",
        "resultados = [\n",
        "    mais_menos_vendidos(loja, 'Loja 1'),\n",
        "    mais_menos_vendidos(loja2, 'Loja 2'),\n",
        "    mais_menos_vendidos(loja3, 'Loja 3'),\n",
        "    mais_menos_vendidos(loja4, 'Loja 4')\n",
        "]\n",
        "\n",
        "# Convertendo para DataFrame para visualização\n",
        "df_resultados = pd.DataFrame(resultados)\n",
        "print(df_resultados)"
      ],
      "metadata": {
        "id": "qoyjqijQZHfF"
      },
      "execution_count": null,
      "outputs": []
    },
    {
      "cell_type": "code",
      "source": [
        "\n",
        "import matplotlib.pyplot as plt\n",
        "\n",
        "plt.figure(figsize=(10, 6))\n",
        "\n",
        "plt.axis('off')  # Desliga os eixos para focar no texto\n",
        "\n",
        "# Para cada linha (loja) no df_resultados, posiciona um texto no gráfico\n",
        "for i, row in df_resultados.iterrows():\n",
        "    loja = row['Loja']\n",
        "    mais = row['Mais vendido']\n",
        "    menos = row['Menos vendido']\n",
        "    texto = f\"{loja}\\nMais vendido: {mais}\\nMenos vendido: {menos}\"\n",
        "    plt.text(0.1, 1 - i*0.2, texto, fontsize=12, bbox=dict(facecolor='lightblue', alpha=0.5))\n",
        "\n",
        "plt.show()\n"
      ],
      "metadata": {
        "id": "0Sw3sd4IZIGW"
      },
      "execution_count": null,
      "outputs": []
    },
    {
      "cell_type": "code",
      "source": [
        "import matplotlib.pyplot as plt\n",
        "import numpy as np\n",
        "\n",
        "x = np.arange(len(df_resultados))\n",
        "plt.bar(x - 0.2, df_resultados['Qtd mais vendido'], 0.4, label='Mais vendido', color='green')\n",
        "plt.bar(x + 0.2, df_resultados['Qtd menos vendido'], 0.4, label='Menos vendido', color='red')\n",
        "plt.xticks(x, df_resultados['Loja'])\n",
        "for i in range(len(df_resultados)):\n",
        "    plt.text(x[i] - 0.2, df_resultados['Qtd mais vendido'][i], df_resultados['Mais vendido'][i], rotation=360, ha='center', fontsize=6)\n",
        "    plt.text(x[i] + 0.2, df_resultados['Qtd menos vendido'][i], df_resultados['Menos vendido'][i], rotation=360, ha='center', fontsize=6)\n",
        "plt.legend()\n",
        "plt.show()"
      ],
      "metadata": {
        "id": "0KGDVqOH2akf"
      },
      "execution_count": null,
      "outputs": []
    },
    {
      "cell_type": "markdown",
      "source": [
        "# 5. Frete Médio por Loja\n"
      ],
      "metadata": {
        "id": "Fl0cGi3bZKqU"
      }
    },
    {
      "cell_type": "code",
      "source": [
        "import pandas as pd\n",
        "\n",
        "loja['Loja'] = 'Loja 1'\n",
        "loja2['Loja'] = 'Loja 2'\n",
        "loja3['Loja'] = 'Loja 3'\n",
        "loja4['Loja'] = 'Loja 4'\n",
        "df = pd.concat([loja, loja2, loja3, loja4], ignore_index=True)\n",
        "frete_medio = df.groupby('Loja')['Frete'].mean().round(2)\n",
        "df_frete = frete_medio.reset_index()\n",
        "print(frete_medio.to_string())\n"
      ],
      "metadata": {
        "id": "S2JeaCykZNy9"
      },
      "execution_count": null,
      "outputs": []
    },
    {
      "cell_type": "code",
      "source": [
        "import matplotlib.pyplot as plt\n",
        "\n",
        "def valor_exato(pct, allvals):\n",
        "    val = pct * sum(allvals) / 100\n",
        "    return f'R$ {val:.2f}'\n",
        "\n",
        "plt.figure(figsize=(7,7))\n",
        "plt.pie(\n",
        "    frete_medio,\n",
        "    labels=frete_medio.index,\n",
        "    autopct=lambda pct: valor_exato(pct, frete_medio),\n",
        "    startangle=90,\n",
        "    colors=['skyblue', 'orange', 'lightgreen', 'salmon']\n",
        ")\n",
        "plt.title('Frete Médio por Loja (Valores em R$)')\n",
        "plt.show()"
      ],
      "metadata": {
        "id": "0tSdCie9ZQlt"
      },
      "execution_count": null,
      "outputs": []
    },
    {
      "cell_type": "markdown",
      "source": [
        "## 6. **RELATORIO** **FINAL**"
      ],
      "metadata": {
        "id": "NSuBCVXEEUYh"
      }
    },
    {
      "cell_type": "markdown",
      "source": [
        "\n",
        "Este relatório tem como objetivo analisar o desempenho das quatro lojas administradas pelo Senhor João, a fim de decidir qual delas deve ser vendida. A análise foi realizada com base em dados reais consolidados em um único arquivo, utilizando o Google Colab para geração de gráficos e métricas.\n",
        "\n",
        "Foram considerados os seguintes fatores:\n",
        "\n",
        "Faturamento total por loja;\n",
        "\n",
        "Volume de vendas por categoria de produto;\n",
        "\n",
        "Produtos mais e menos vendidos;\n",
        "\n",
        "Avaliação média dos clientes;\n",
        "\n",
        "Custo médio de frete.\n",
        "\n",
        "A partir dessas análises, observou-se que as Lojas 2 e 3 apresentaram resultados sólidos e consistentes, reduzindo a decisão final à comparação entre as Lojas 1 e 4.\n",
        "\n",
        "**ANÁLISE DAS LOJAS**\n",
        "\n",
        "**Loja 2 – Destaque Positivo**\n",
        "Faturamento: R$ 1.488.459,06 (2º maior)\n",
        "\n",
        "Avaliação média: 4.04\n",
        "\n",
        "Frete médio: R$ 33,62\n",
        "\n",
        "Vendas por categoria: Boa distribuição nas principais categorias (móveis, eletrônicos, brinquedos)\n",
        "\n",
        "Produtos vendidos: Apresenta variedade entre os mais vendidos\n",
        "\n",
        "Conclusão: Loja bem posicionada, com desempenho equilibrado e eficiente, não recomendada para venda.\n",
        "\n",
        "Loja 3 – Destaque Positivo\n",
        "**negrito**Faturamento: R$ 1.464.025,03 (3º lugar, mas com pequena diferença em relação à Loja 2)\n",
        "\n",
        "Avaliação média: 4.05 (a melhor entre todas)\n",
        "\n",
        "Frete médio: R$ 33,07\n",
        "\n",
        "Vendas por categoria: Alto volume de vendas em móveis e eletrônicos\n",
        "\n",
        "Produtos vendidos: Forte presença entre os mais vendidos\n",
        "\n",
        "Conclusão: Excelente reputação com clientes e desempenho estável. Deve ser mantida.\n",
        "\n",
        "**Comparativo Final: Loja 1 vs Loja 4**\n",
        "\n",
        " Loja 1\n",
        "\n",
        "**Pontos Fortes:**\n",
        "\n",
        "Maior faturamento: R$ 1.534.509,12\n",
        "\n",
        "Maior volume de vendas em móveis e eletrônicos\n",
        "\n",
        "Presença relevante entre os produtos mais vendidos\n",
        "\n",
        "**Pontos Fracos:**\n",
        "\n",
        "Pior avaliação dos clientes: 3.98\n",
        "\n",
        "Maior custo médio de frete: R$ 34,69\n",
        "\n",
        "Indícios de ineficiência logística e possível insatisfação dos consumidores\n",
        "\n",
        " Loja 4\n",
        "**Pontos Fortes:**\n",
        "\n",
        "Menor custo médio de frete: R$ 31,28\n",
        "\n",
        "Avaliação média ligeiramente melhor que a Loja 1: 4.00\n",
        "\n",
        "Boa performance em utilidades domésticas\n",
        "\n",
        "**Pontos Fracos:**\n",
        "\n",
        "Menor faturamento: R$ 1.384.497,58\n",
        "\n",
        "Desempenho mais fraco nas principais categorias de produtos\n",
        "\n",
        "Pouca presença entre os produtos mais vendidos\n",
        "\n",
        "**Conclusão**\n",
        "\n",
        "Após análise dos dados e indicadores de desempenho, conclui-se que as Lojas 2 e 3 devem ser mantidas, pois apresentam excelente equilíbrio entre faturamento, avaliação de clientes, custo de frete e volume de vendas. Ambas se destacam como pilares do negócio.\n",
        "\n",
        "A decisão final está entre as Lojas 1 e 4. Apesar da Loja 1 ter o maior faturamento, ela sofre com alta taxa de frete e baixa avaliação de clientes, o que pode indicar problemas de logística, atendimento ou operação. Já a Loja 4 tem melhores custos e avaliações, mas seu faturamento é significativamente menor, e o desempenho de vendas é mais tímido.\n",
        "\n",
        "Dessa forma, a recomendação é vender a Loja 4, pois ela é a menos lucrativa e   possui menor impacto estratégico no negócio. A Loja 1, embora apresente pontos a melhorar, ainda representa uma forte fonte de receita e pode ser otimizada internamente para elevar sua performance.\n",
        "\n"
      ],
      "metadata": {
        "id": "59VcNE2zEfet"
      }
    }
  ]
}